{
 "cells": [
  {
   "cell_type": "markdown",
   "metadata": {},
   "source": [
    "# ENGR-E 221 Intelligent Systems I Fall 2020\n",
    "\n",
    "## Lab 1 Introduction to agent based models\n",
    "Thursday Lab: 8/27/2020 3:15 pm - 4:30 pm\n",
    "\n",
    "Friday Lab: 8/28/2020 9:25 am - 10:40 am \n",
    "\n",
    "**Due: Friday 9/4/2020 11:59 pm EST**"
   ]
  },
  {
   "cell_type": "code",
   "execution_count": 1,
   "metadata": {},
   "outputs": [],
   "source": [
    "# import useful libraries\n",
    "import numpy as np\n",
    "import matplotlib.pyplot as plt"
   ]
  },
  {
   "cell_type": "markdown",
   "metadata": {},
   "source": [
    "## Warm-up (10 minutes)\n",
    "\n",
    "The purpose of this warm-up is to introduce some of the basic techniques we will be using during the lab exercise and to proovide you with a resource for portions of code for you to use as building blocks. A basic resource for the python statements and tools we use throughout this lab: [python docs](https://docs.python.org/3/tutorial/controlflow.html). \n",
    "\n",
    "\n",
    "### 2-d Arrays with numpy\n",
    "\n",
    "Intializing arrays based on user inputs is very useful. Here we make an array with 5 rows and 3 columns using numpy. "
   ]
  },
  {
   "cell_type": "code",
   "execution_count": 4,
   "metadata": {},
   "outputs": [
    {
     "data": {
      "text/plain": [
       "array([[0., 0., 0.],\n",
       "       [0., 0., 0.],\n",
       "       [0., 0., 0.],\n",
       "       [0., 0., 0.],\n",
       "       [0., 0., 0.]])"
      ]
     },
     "execution_count": 4,
     "metadata": {},
     "output_type": "execute_result"
    }
   ],
   "source": [
    "import numpy as np #importing numpy and assigning a shorthand notation\n",
    "rows = 5;\n",
    "columns = 3;\n",
    "A = np.zeros((rows,columns));\n",
    "\n",
    "A"
   ]
  },
  {
   "cell_type": "markdown",
   "metadata": {},
   "source": [
    "#### Shape of 2-d Array \n",
    "\n",
    "Access the number of a rows [0] or columns [1] in a 2-d array with the shape method object. ```numpy-array.shape[direction] ``` . Remember that the number of rows represents the length of a column vector and the number of columns represents the length of a row vector. "
   ]
  },
  {
   "cell_type": "code",
   "execution_count": 5,
   "metadata": {},
   "outputs": [
    {
     "data": {
      "text/plain": [
       "5"
      ]
     },
     "execution_count": 5,
     "metadata": {},
     "output_type": "execute_result"
    }
   ],
   "source": [
    "A.shape[0] # number of rows (length of column vector)"
   ]
  },
  {
   "cell_type": "code",
   "execution_count": 6,
   "metadata": {},
   "outputs": [
    {
     "data": {
      "text/plain": [
       "3"
      ]
     },
     "execution_count": 6,
     "metadata": {},
     "output_type": "execute_result"
    }
   ],
   "source": [
    "A.shape[1] # number of columns (length of row vector)"
   ]
  },
  {
   "cell_type": "markdown",
   "metadata": {},
   "source": [
    "#### Looping Through 2-d Arrays \n",
    "\n",
    "##### Assign a Value to all Indicies of an Array\n",
    "\n",
    "Lets create a loop that will loop through all the values in a 2-d array and update the value from zero to the sum of the current indicies. It is useful to use the shape method within the loop to determine the length of each loop. \n",
    "\n",
    "This update rule is: $A(i, j) = i + j$ \n",
    "\n",
    " Here are the loops for it. "
   ]
  },
  {
   "cell_type": "code",
   "execution_count": 7,
   "metadata": {},
   "outputs": [
    {
     "data": {
      "text/plain": [
       "array([[0., 1., 2.],\n",
       "       [1., 2., 3.],\n",
       "       [2., 3., 4.],\n",
       "       [3., 4., 5.],\n",
       "       [4., 5., 6.]])"
      ]
     },
     "execution_count": 7,
     "metadata": {},
     "output_type": "execute_result"
    }
   ],
   "source": [
    "for i in range(0,A.shape[0]):\n",
    "    for j in range(0,A.shape[1]):\n",
    "        A[i,j] = i+j; \n",
    "A"
   ]
  },
  {
   "cell_type": "markdown",
   "metadata": {},
   "source": [
    "##### Find and replace values with a loop\n",
    "\n",
    "Now lets find all the values of 3 and replace them with 99 using a loop."
   ]
  },
  {
   "cell_type": "code",
   "execution_count": 8,
   "metadata": {},
   "outputs": [
    {
     "data": {
      "text/plain": [
       "array([[ 0.,  1.,  2.],\n",
       "       [ 1.,  2., 99.],\n",
       "       [ 2., 99.,  4.],\n",
       "       [99.,  4.,  5.],\n",
       "       [ 4.,  5.,  6.]])"
      ]
     },
     "execution_count": 8,
     "metadata": {},
     "output_type": "execute_result"
    }
   ],
   "source": [
    "for i in range(0,A.shape[0]):\n",
    "    for j in range(0,A.shape[1]):\n",
    "        if A[i,j] == 3:\n",
    "            A[i,j] = 99;\n",
    "\n",
    "A"
   ]
  },
  {
   "cell_type": "markdown",
   "metadata": {},
   "source": [
    "### Find and replace without a loop\n",
    "\n",
    "Find and replace using two for loops is not very computationally effiecent. It may not be noticeable for small calculations but as systems grow and generate larger, more complex data sets the need for effiecent computing gains importance. Python allows us write easy and shorter statements by leveraging the methods built into objects. An is example is the 'where' method object from numpy.\n",
    "\n",
    "[python classes and methods](https://docs.python.org/3/tutorial/classes.html)"
   ]
  },
  {
   "cell_type": "code",
   "execution_count": 13,
   "metadata": {},
   "outputs": [
    {
     "data": {
      "text/plain": [
       "array([[ 0.,  1.,  2.],\n",
       "       [ 1.,  2., 99.],\n",
       "       [ 2., 99.,  4.],\n",
       "       [99.,  4.,  5.],\n",
       "       [ 4.,  5.,  6.]])"
      ]
     },
     "execution_count": 13,
     "metadata": {},
     "output_type": "execute_result"
    }
   ],
   "source": [
    "A_new = np.where(A==3,99,A)\n",
    "A_new"
   ]
  },
  {
   "cell_type": "markdown",
   "metadata": {},
   "source": [
    "### Random events\n",
    "\n",
    "An event exists with probability of $ p (0 < p < 1)$. Additionally there exists a uniform random number generator that assigns a random number, r , between 0 and 1. \n",
    "If the random number satisfies the statement $r < p$, then consider the event to have happened,\n",
    "if $r > p$, then it didn't. The random number generator we will use is a method within numpy--numpy.random.uniform().  \n",
    "\n",
    "[numpy.random.uniform](https://numpy.org/doc/stable/reference/random/generated/numpy.random.uniform.html)"
   ]
  },
  {
   "cell_type": "code",
   "execution_count": 16,
   "metadata": {},
   "outputs": [
    {
     "data": {
      "text/plain": [
       "0.5925823393735745"
      ]
     },
     "execution_count": 16,
     "metadata": {},
     "output_type": "execute_result"
    }
   ],
   "source": [
    "np.random.uniform()"
   ]
  },
  {
   "cell_type": "markdown",
   "metadata": {},
   "source": [
    "## Task 1: Creating an Environment class (10 minutes) \n",
    "\n",
    "Create a class called **Environment** that has one member data: a 2-D array called **Food**. Create a default constructor that takes user inputs for the number of rows and columns and initializes the value of food in each position to 1.0. \n",
    "\n",
    "The first step is to create the Environment class like so:\n",
    "\n",
    "```python\n",
    "class Environment: ```\n",
    "\n",
    "Now that we have a class we want to use the default contstructor to create a unique instance of **Food** each time the class is instatiated. We should have this now: \n",
    "\n",
    "```python\n",
    "class Environment:\n",
    "        def __init__ (self): ```\n",
    "        \n",
    "Since we are tasked with creating a 2-d member array of food this can be accomplished like so. \n",
    "\n",
    "```self.Food = np.zeros(rows,cols) ```\n",
    "\n",
    "We now should have this:\n",
    "\n",
    "```python\n",
    "class Environment:\n",
    "        def __init__ (self, rows,cols): \n",
    "        self.Food = np.zeros(rows,cols)```\n",
    "        \n",
    "Notice the inclusion of the rows and cols within the $__init__$ def, this is used for convience. At this point we have created an Environment class that has a 2-d member array called Food and filled with zeros. The next step is to use the loops from the warm up to generate a 2-d array of 1's. \n",
    "\n",
    "```python\n",
    "for i in range(0,self.Food.shape[0]):\n",
    "     for j in range(0,self.Food.shape[1]):```\n",
    "\n",
    "In addition to the loops the following statement is used to assign the value of 1 to all the indicies of the Food array.\n",
    "\n",
    "```self.food[i,j] = 1.0; ```\n",
    "\n",
    "The finished bit of code looks like so: \n",
    "\n",
    "```python\n",
    "class Environment:\n",
    "        def __init__ (self, rows,cols): \n",
    "        self.Food = np.zeros(rows,cols)\n",
    "        for i in range(0,self.Food.shape[0]):\n",
    "            for j in range(0,self.Food.shape[1]):\n",
    "                self.food[i,j] = 1.0\n",
    "                ```\n",
    "\n",
    "\n"
   ]
  },
  {
   "cell_type": "code",
   "execution_count": 7,
   "metadata": {},
   "outputs": [
    {
     "data": {
      "text/plain": [
       "array([[1., 1., 1., 1., 1., 1., 1., 1., 1., 1.],\n",
       "       [1., 1., 1., 1., 1., 1., 1., 1., 1., 1.],\n",
       "       [1., 1., 1., 1., 1., 1., 1., 1., 1., 1.],\n",
       "       [1., 1., 1., 1., 1., 1., 1., 1., 1., 1.],\n",
       "       [1., 1., 1., 1., 1., 1., 1., 1., 1., 1.],\n",
       "       [1., 1., 1., 1., 1., 1., 1., 1., 1., 1.],\n",
       "       [1., 1., 1., 1., 1., 1., 1., 1., 1., 1.],\n",
       "       [1., 1., 1., 1., 1., 1., 1., 1., 1., 1.],\n",
       "       [1., 1., 1., 1., 1., 1., 1., 1., 1., 1.],\n",
       "       [1., 1., 1., 1., 1., 1., 1., 1., 1., 1.]])"
      ]
     },
     "execution_count": 7,
     "metadata": {},
     "output_type": "execute_result"
    }
   ],
   "source": [
    "# Students Answers go below\n",
    "\n",
    "import numpy as np\n",
    "\n",
    "class Environment: #create a class\n",
    "    def __init__( self, row, col): #must include the default constructor\n",
    "        self.Food = np.zeros((row,col)) #assign the proper statement here to initilize array\n",
    "        for i in range(0,self.Food.shape[0]): # This is the loop from the warm-up\n",
    "            for j in range(0,self.Food.shape[1]):\n",
    "                self.Food[i,j] = 1.0 # assign the proper values to the 2-d array of food\n",
    "                \n",
    "# When you think you are done please uncomment the code below and run this cell.\n",
    "# If you see a 10 x 10 array of 1's you can move on. \n",
    "\n",
    "test = Environment(10,10)\n",
    "test.Food"
   ]
  },
  {
   "cell_type": "code",
   "execution_count": 21,
   "metadata": {},
   "outputs": [],
   "source": [
    "# Instructors Answer\n",
    "class Environment: \n",
    "    def __init__( self, row, col):\n",
    "        self.Food = np.zeros( (row,col))\n",
    "        for i in range(0,self.Food.shape[0]):\n",
    "            for j in range(0,self.Food.shape[1]):\n",
    "                self.Food[i,j] = 1.0; \n"
   ]
  },
  {
   "cell_type": "markdown",
   "metadata": {},
   "source": [
    "## TASK 2: Improving the Environment class (20 minutes)\n",
    "\n",
    "You will add these three functions to the Environment class.\n",
    "\n",
    "1. **resize** Resizes the **Food** object to $M \\times N$, where $M$ and $N$ are supplied arguments. \n",
    " \n",
    "2. **plot\\_me** Creates a 2-D filled contour plot of **Food**.\n",
    "\n",
    "3. **randomize** Assigns the values at each lattice site in **Food** to a (uniformly) random value between 0 and 1. "
   ]
  },
  {
   "cell_type": "markdown",
   "metadata": {},
   "source": [
    "#### Task 2.1 The resize Fucntion\n",
    "\n",
    "In our original Environment class we built in the functionality to create a custom size array into the default constructor that is input when the class is instantiated. Following this same logic we can create a resize definition that allows the grid to be resized after it is instatiated. \n",
    "\n",
    "```python\n",
    "class Environment:\n",
    "    def __init__( self, row, col ):\n",
    "        self.Food = np.zeros( (row,col))\n",
    "        for i in range(0,self.Food.shape[0]):\n",
    "            for j in range(0,self.Food.shape[1]):\n",
    "                self.Food[i,j] = 1.0; \n",
    "         ```\n",
    "         \n",
    "The resize function will look very similar to the default constructor. We could have also hardcoded the intial indicies into the intialization of the array like this: ```python self.Food = np.zeros((48,64)) ```. In this case every time we instatiate the class an array of the size 48 x 64 is created. If you had a simulation where most of the time you used the exact same domain size hard coding may be applicable otherwise we will try and make our code as flexible as possible.   \n",
    "\n",
    " ```python\n",
    "    def resize( self, newI, newJ ): \n",
    "        self.Food = np.zeros((NewI,NewJ))\n",
    "        for i in range(0,self.Food.shape[0]):\n",
    "            for j in range(0,self.Food.shape[1]):\n",
    "                self.Food[i,j] = 1.0; \n",
    "                \n",
    "                ```"
   ]
  },
  {
   "cell_type": "code",
   "execution_count": 23,
   "metadata": {},
   "outputs": [],
   "source": [
    "# Add the resize definition and delete the return on line 12\n",
    "\n",
    "class Environment: \n",
    "    def __init__( self, row, col):\n",
    "        self.Food = np.zeros( (row,col))\n",
    "        for i in range(0,self.Food.shape[0]):\n",
    "            for j in range(0,self.Food.shape[1]):\n",
    "                self.Food[i,j] = 1.0; \n",
    "    \n",
    "    def resize(self, arg1, arg2):\n",
    "        self.Food = np.zeros((NewI,NewJ))\n",
    "        for i in range(0,self.Food.shape[0]):\n",
    "            for j in range(0,self.Food.shape[1]):\n",
    "                self.Food[i,j] = 1.0;"
   ]
  },
  {
   "cell_type": "markdown",
   "metadata": {},
   "source": [
    "#### Task 2.2: The plot\\_me Function \n",
    "\n",
    "A basic way to create a 2-d contour plot :\n",
    "\n",
    "```python\n",
    "x = np.arange(1,10);\n",
    "y = x.reshape(-1,1);\n",
    "z = x * y ; \n",
    "plt.figure()\n",
    "cs = plt.contourf( z ); \n",
    "```\n",
    "\n",
    "Notice the plt.figure() statement, this is required so that a unique figure is generated. Creating the plot\\_me definition is straightforward with matplotlib but we must plot the transpose of Food, we will discuss this more next week. What we want to plot is this: ``` z = np.transpose(self.Food) ``` versus simply plotting self.Food."
   ]
  },
  {
   "cell_type": "code",
   "execution_count": 24,
   "metadata": {},
   "outputs": [],
   "source": [
    "# Task 2.2 add the plot_me definition\n",
    "\n",
    "class Environment: \n",
    "    def __init__( self, row, col):\n",
    "        self.Food = np.zeros( (row,col))\n",
    "        for i in range(0,self.Food.shape[0]):\n",
    "            for j in range(0,self.Food.shape[1]):\n",
    "                self.Food[i,j] = 1.0; \n",
    "    \n",
    "    def resize( self, newI, newJ ): \n",
    "        self.Food = np.zeros((NewI,NewJ))\n",
    "        for i in range(0,self.Food.shape[0]):\n",
    "            for j in range(0,self.Food.shape[1]):\n",
    "                self.Food[i,j] = 1.0;\n",
    "    \n",
    "    def plot_me(self):\n",
    "        return\n",
    "    "
   ]
  },
  {
   "cell_type": "markdown",
   "metadata": {},
   "source": [
    "#### Task 2.3 The randomize Function\n",
    "\n",
    "Now we want to create a distribution of values within our 2-d array of Food to represent some habitat. From the warm-up we used numpy.random.uniform to generate a value between 0-1. We will apply it here to assign each value of the Food array a random value. "
   ]
  },
  {
   "cell_type": "code",
   "execution_count": 25,
   "metadata": {},
   "outputs": [],
   "source": [
    "# Add the randomize definition \n",
    "\n",
    "class Environment: \n",
    "    def __init__( self, row, col):\n",
    "        self.Food = np.zeros( (row,col))\n",
    "        for i in range(0,self.Food.shape[0]):\n",
    "            for j in range(0,self.Food.shape[1]):\n",
    "                self.Food[i,j] = 1.0; \n",
    "    \n",
    "    def resize( self, newI, newJ ): \n",
    "        self.Food = np.zeros((NewI,NewJ))\n",
    "        for i in range(0,self.Food.shape[0]):\n",
    "            for j in range(0,self.Food.shape[1]):\n",
    "                self.Food[i,j] = 1.0;\n",
    "    \n",
    "\n",
    "    def plot_me(self):\n",
    "        return\n",
    "    \n",
    "    def randomize(self):\n",
    "        return"
   ]
  },
  {
   "cell_type": "code",
   "execution_count": 8,
   "metadata": {},
   "outputs": [],
   "source": [
    "# Instructors Answer\n",
    "\n",
    "class Environment:\n",
    "    def __init__( self, row,col ):\n",
    "        self.Food = np.zeros( (row,col))\n",
    "        for i in range(0,self.Food.shape[0]):\n",
    "            for j in range(0,self.Food.shape[1]):\n",
    "                self.Food[i,j] = 1.0; \n",
    "                \n",
    "    def resize( self, newI, newJ ): \n",
    "        self.Food = np.zeros((NewI,NewJ))\n",
    "        for i in range(0,self.Food.shape[0]):\n",
    "            for j in range(0,self.Food.shape[1]):\n",
    "                self.Food[i,j] = 1.0; \n",
    "                \n",
    "    def randomize(self):\n",
    "        for i in range(0,self.Food.shape[0]):\n",
    "            for j in range(0,self.Food.shape[1]):\n",
    "                self.Food[i,j] = np.random.uniform();\n",
    "    \n",
    "    def plot_me(self): # here we could even add args and apply names to the figures\n",
    "            plt.figure(); # this produces a new plot instead of overwriting the old  \n",
    "            CS = plt.contourf( np.transpose(self.Food) );\n",
    "            "
   ]
  },
  {
   "cell_type": "markdown",
   "metadata": {},
   "source": [
    "## TASK 3: Instantiating the environment (5 minutes)\n",
    "\n",
    "Create an instance of the Environment class called **environment**, \n",
    "and plot it.  Randomize the food, and plot it again. "
   ]
  },
  {
   "cell_type": "code",
   "execution_count": 5,
   "metadata": {},
   "outputs": [],
   "source": [
    "# Students Answers go below"
   ]
  },
  {
   "cell_type": "code",
   "execution_count": 6,
   "metadata": {},
   "outputs": [
    {
     "data": {
      "image/png": "[encoded data removed]",
      "text/plain": [
       "<Figure size 432x288 with 1 Axes>"
      ]
     },
     "metadata": {
      "needs_background": "light"
     },
     "output_type": "display_data"
    },
    {
     "data": {
      "image/png": "[encoded data removed]",
      "text/plain": [
       "<Figure size 432x288 with 1 Axes>"
      ]
     },
     "metadata": {
      "needs_background": "light"
     },
     "output_type": "display_data"
    }
   ],
   "source": [
    "# Instructors Answer Surely this will not take ten minutes\n",
    "\n",
    "environment = Environment(100,100);\n",
    "environment.plot_me();\n",
    "environment.randomize();\n",
    "environment.plot_me();"
   ]
  },
  {
   "cell_type": "markdown",
   "metadata": {},
   "source": [
    "## TASK 4: Creating a Prey agent class (10 minutes)\n",
    "\n",
    "We are going to make **Prey** agents that graze \n",
    "on the food. We'll start by defining the class. Create a constructor that sets **eating_rate** to 0.05, and sets integers $(i,j)$ to be somewhere randomly in the array of food. \n",
    "\n",
    "```python\n",
    "class Prey:\n",
    "    def __init__(self):\n",
    "        self.eating_rate =\n",
    "        self.minimum_food = \n",
    "        self.i = # hint you should be using numpys random.randint(0, number of rows)\n",
    "        self.j =\n",
    "        \n",
    "    def Eat:\n",
    "        return\n",
    "    \n",
    "    ```"
   ]
  },
  {
   "cell_type": "code",
   "execution_count": 7,
   "metadata": {},
   "outputs": [],
   "source": [
    "# Students Answers go below"
   ]
  },
  {
   "cell_type": "code",
   "execution_count": 8,
   "metadata": {},
   "outputs": [],
   "source": [
    "# Instructors Answer\n",
    "class Prey:\n",
    "    def __init__( self ):\n",
    "        self.eating_rate = 0.05\n",
    "        self.minimum_food = 0.05\n",
    "        self.i = np.random.randint( 0 , environment.Food.shape[0])\n",
    "        self.j = np.random.randint( 0 , environment.Food.shape[1])\n",
    "        \n",
    "    def eat( self ):\n",
    "        return"
   ]
  },
  {
   "cell_type": "markdown",
   "metadata": {},
   "source": [
    "### TASK 5: Improving the Prey class by making it eat (15 minutes)\n",
    "\n",
    "Let's make the Prey eat the food in their lattice site. \n",
    "\n",
    "$\n",
    "\\frac{d[Food]}{dt} = - [eating\\_rate] [Food]\n",
    "$\n",
    "\n",
    "This says that the prey eats food faster when there's more food, and slower when there is less. \n",
    "\n",
    "Let's approxiate a solution to this. Remember the definition of the derivative: \n",
    "\n",
    "$\n",
    "\\frac{ d[Food]}{dt} \\approx \n",
    "\\frac{ Food(t+\\Delta t) - Food(t)}{\\Delta t} \n",
    "$\n",
    "\n",
    "So, we can put this into the differential equation: \n",
    "\n",
    "$\n",
    "\\frac{ Food(t+\\Delta t) - Food(t)}{\\Delta t} \n",
    " \\approx  - [eating\\_rate]Food(t) \n",
    "$\n",
    "\n",
    "and then algebraically solve for Food at the next time $(t+\\Delta t)$: \n",
    "\n",
    "$\n",
    "Food(t+\\Delta t)\n",
    " \\approx  \n",
    " ( {1 - \\Delta t} [eating\\_rate]) Food(t)\n",
    "$\n",
    "\n",
    "(We'll look at this a bit more in class next week.) \n",
    "\n",
    "With this knowledge now update the Prey's eat function to have it eat the food at its lattice site $(i,j)$. Go ahead and assume $\\Delta t = 1$. So we have: \n",
    "\n",
    "$Food(t+1) \\approx (1 - [eating\\_rate])[Food(t)]$\n",
    "\n",
    "Hint using the \\*= in python which follows this logic: X\\*=99 $\\rightarrow$ X = X\\*99, may be useful. Since we have created a habitat i.e. the 2-d environment with food that we would like to update. This means we want to operate on the Environment.Food object. "
   ]
  },
  {
   "cell_type": "code",
   "execution_count": 31,
   "metadata": {},
   "outputs": [],
   "source": [
    "# Students Answers go below"
   ]
  },
  {
   "cell_type": "code",
   "execution_count": 32,
   "metadata": {},
   "outputs": [],
   "source": [
    "# Instructors Answer\n",
    "\n",
    "class Prey:\n",
    "    def __init__( self ):\n",
    "        self.eating_rate = 0.05\n",
    "        self.minimum_food = 0.05\n",
    "        self.i = np.random.randint( 0 , environment.Food.shape[0])\n",
    "        self.j = np.random.randint( 0 , environment.Food.shape[1])\n",
    "        \n",
    "    def eat( self ):\n",
    "        environment.Food[ self.i , self.j ] *= ( 1.0 - self.eating_rate )\n",
    "         "
   ]
  },
  {
   "cell_type": "markdown",
   "metadata": {},
   "source": [
    "## TASK 6: Instantiating the Prey (5 minutes)\n",
    "\n",
    "Make a collection of ``` prey_agents = {}```, and make/instantiate\n",
    "2500 instances of prey agents, which you add to this collection. Your code should look something like this: \n",
    "``` python\n",
    "prey_agent = {}\n",
    "numer_of_prey = #some number \n",
    "# loop with the update rule as follows\n",
    "prey_agents[i] = Prey(); \n",
    "```"
   ]
  },
  {
   "cell_type": "code",
   "execution_count": 33,
   "metadata": {},
   "outputs": [],
   "source": [
    "# Students Answers go below"
   ]
  },
  {
   "cell_type": "code",
   "execution_count": 34,
   "metadata": {},
   "outputs": [
    {
     "data": {
      "image/png": "[encoded data removed]",
      "text/plain": [
       "<Figure size 432x288 with 1 Axes>"
      ]
     },
     "metadata": {
      "needs_background": "light"
     },
     "output_type": "display_data"
    }
   ],
   "source": [
    "# Instructors Answer\n",
    "prey_agents = {}\n",
    "number_of_prey = 2500 \n",
    "for n in range( 0 , number_of_prey):\n",
    "    prey_agents[n] = Prey(); \n",
    "    \n",
    "# Make the prey agents eat\n",
    "for i in range( 0 , len(prey_agents)):\n",
    "    prey_agents[i].eat() \n",
    "    \n",
    "environment.plot_me()"
   ]
  },
  {
   "cell_type": "markdown",
   "metadata": {},
   "source": [
    "## TASK 7: Running the model (5 minutes)\n",
    "1. Make all your prey agents eat and plot Food.\n",
    "```\n",
    "loop for prey\n",
    "prey_agent[i].eat \n",
    "end prey loop\n",
    "Environment.plot_me()\n",
    "```\n",
    "2. Run 1000 time steps of the prey agents eating and plot Food.\n",
    "```\n",
    "loop for time steps\n",
    "loop for prey\n",
    "prey_agent[i].eat \n",
    "end prey loop\n",
    "end time loop\n",
    "Environment.plot_me()\n",
    "```"
   ]
  },
  {
   "cell_type": "code",
   "execution_count": null,
   "metadata": {},
   "outputs": [],
   "source": [
    "# Students Answers go below"
   ]
  },
  {
   "cell_type": "code",
   "execution_count": null,
   "metadata": {},
   "outputs": [],
   "source": [
    "# Instructors Answer\n",
    "\n",
    "# 1\n",
    "\n",
    "for i in range( 0, len( prey_agents )):\n",
    "    prey_agents[i].eat();\n",
    "environment.plot_me();\n",
    "\n",
    "# 2\n",
    "\n",
    "for n in range(0, 1000 ):\n",
    "    for i in range( 0, len( prey_agents )):\n",
    "        prey_agents[i].eat();\n",
    "environment.plot_me();"
   ]
  }
 ],
 "metadata": {
  "kernelspec": {
   "display_name": "Python 3",
   "language": "python",
   "name": "python3"
  },
  "language_info": {
   "codemirror_mode": {
    "name": "ipython",
    "version": 3
   },
   "file_extension": ".py",
   "mimetype": "text/x-python",
   "name": "python",
   "nbconvert_exporter": "python",
   "pygments_lexer": "ipython3",
   "version": "3.8.3"
  }
 },
 "nbformat": 4,
 "nbformat_minor": 4
}
