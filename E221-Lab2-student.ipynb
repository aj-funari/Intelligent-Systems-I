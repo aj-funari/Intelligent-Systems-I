{
 "cells": [
  {
   "cell_type": "markdown",
   "metadata": {},
   "source": [
    "# ENGR-E 221 Intelligent Systems I Fall 2020\n",
    "\n",
    "## Lab 2  Agent Based Models contiued\n",
    "Thursday Lab: 9/3/2020 3:15 pm - 4:30 pm\n",
    "\n",
    "Friday Lab: 9/4/2020 9:25 am - 10:40 am \n",
    "\n",
    "**Due: Friday 9/11/2020 11:59 pm EST**"
   ]
  },
  {
   "cell_type": "markdown",
   "metadata": {},
   "source": [
    "## Warm-up\n",
    "\n",
    "For this lab we will be using a jupyter notebook to run a simulation that leverages the modularity of python. However since we are using a notebook we must also use a text editior to modify our files with a .py extension. These files are the same files we built in Lab 1 and lectures 1-4 they are simply python files versus jupyter notebooks. Please make sure you have a working text editor you are comfortable with.  \n",
    "\n",
    "Lets pick up with what we learned in Lecture 3, the files are zipped here [Python Files](https://iu.instructure.com/courses/1908787/pages/221-labs). Bring these files into your lab2 working directory so we have something similar to this:\n",
    "\n",
    "```\n",
    "|-- lab2\n",
    "    |-- e221_lab2.ipynb\n",
    "    |-- Environment.py\n",
    "    |-- pizza.py\n",
    "    |-- plotting.py\n",
    "    |-- Prey.py\n",
    "    |-- setup.py\n",
    "    |-- simulation.py\n",
    "    |-- Drone.py\n",
    "```\n",
    "\n",
    "Notice there is a simulation.py file which is the exact same bit of code you saw in lecture 3 slide x. You can now run the next line of code and discuss with your group what happens. "
   ]
  },
  {
   "cell_type": "code",
   "execution_count": 1,
   "metadata": {},
   "outputs": [
    {
     "data": {
      "image/png": "[encoded data removed]",
      "text/plain": [
       "<Figure size 432x288 with 1 Axes>"
      ]
     },
     "metadata": {
      "needs_background": "light"
     },
     "output_type": "display_data"
    }
   ],
   "source": [
    "run simulation"
   ]
  },
  {
   "cell_type": "markdown",
   "metadata": {},
   "source": [
    "Now we can look at prey list.\n",
    "\n",
    "```python \n",
    "prey_list\n",
    "```\n",
    "\n",
    "It would be useful to be able to interact with prey\\_list. Let's get some syntax for adding and removing prey from the prey\\_list. Suppose something eats prey \\# 3, we'd need some way to delete it from the list. Here's how:\n",
    "\n",
    "```python\n",
    "\n",
    "del prey_list[3]\n",
    "prey_list\n",
    "```\n",
    "\n",
    "Note that iterating through prey_list is a bit harder after you remove something, because the indices don't go in order any more. (There is a gap.) Here's the goofy syntax to go thorugh your prey list after you delete something: \n",
    "\n",
    "```python\n",
    "for i in prey_list.keys():\n",
    "     # do something \n",
    "     print( prey_list[i].i ); \n",
    "```\n",
    "\n",
    "Now lets add prey and assume one of the prey (\\#2) gives birth. Let's append a copy of it to the prey_list:\n",
    "\n",
    "```python\n",
    "import copy # needed for proper copies of complex objects\n",
    "max_ID = max( prey_list.keys() );    # look at the keys in prey_list, and get the maximum one \n",
    "# prey_list[ max_ID + 1] = prey_list[2]; # does not act as you would expect! \n",
    "prey_list[ max_ID + 1] = copy.copy( prey_list[2] );  \n",
    "# add a new prey that copies 2nd one and append to the list with a bigger ID\n",
    "prey_list \n",
    "```"
   ]
  },
  {
   "cell_type": "code",
   "execution_count": null,
   "metadata": {},
   "outputs": [],
   "source": [
    "# explore interacting with prey_list here\n",
    "prey_list"
   ]
  },
  {
   "cell_type": "markdown",
   "metadata": {},
   "source": [
    "## Task 1: Creating and using the prey\\_IDs data structure (5 minutes)\n",
    "\n",
    "1) Open up the source code for the Environment class Environment.py using a text editor of your choice. In the initialization function, create an array named prey_IDs that is the same size as Food and initialized to -1. \n",
    "\n",
    "2) Update the resize function so that it also resizes prey_IDs. \n",
    "\n",
    "3) Update the startup routine in startup.py so that when prey are instantiated, their IDs are written to the new lattice structure in the environment. Set the number\\_of\\_prey to 50 prey. "
   ]
  },
  {
   "cell_type": "code",
   "execution_count": null,
   "metadata": {},
   "outputs": [],
   "source": [
    "# Student work below but final edits need to be in the correct .py files"
   ]
  },
  {
   "cell_type": "markdown",
   "metadata": {},
   "source": [
    "## Task 2: Creating a Drone class (15 minutes)\n",
    "\n",
    "1) Create a new Drone class in drone.py. Make sure it imports Environment and Prey. \n",
    "\n",
    "      In the constructor, set the following: \n",
    "\n",
    "      a) position, initilized to a random position (i,j) in environment \n",
    "\n",
    "      b) stencil, initially set to [ [-1,0] , [0,-1] , [1,0] , [0,1] ] \n",
    " \n",
    "      c) weights, initially set to [1,1,1,1]\n",
    "      \n",
    "      \n",
    "Your constructor should look similar to this:\n",
    "```python\n",
    "class Drone:\n",
    "     def __init__( self , environment ):\n",
    "          [M,N] = environment.Food.shape; \n",
    "          self.i = np.random.randint(M);\n",
    "          self.j = np.random.randint(N); \n",
    "          self.stencil = [[-1,0], [0,-1], [1,0], [0,1]]; \n",
    "          self.weights = [1,1,1,1]; \n",
    "          return; \n",
    "        ```\n",
    "\n",
    "2) Add a function called hunt( self, environment, prey_list ) but just have it return for now. \n",
    "\n",
    "3) Import Prey into your startup.py and simulation.py files. \n",
    "\n",
    "4) Update simulation_setup() to create drone_list similarly to prey_list to make 5 drones. Make sure you return the new drone_list. Make sure that in simulation.py you use the updated setup function. While you're at it, let's do 1000 simulation steps.  "
   ]
  },
  {
   "cell_type": "code",
   "execution_count": null,
   "metadata": {},
   "outputs": [],
   "source": [
    "class Drone:\n",
    "    def __init__(self,environment):\n",
    "        [M,N] = environment.Food.shape;\n",
    "        self.i = np.random.randint(M);\n",
    "        self.j = np.random.randint(N);\n",
    "        self.stencil = [[-1,0], [0,-1], [1,0], [0,1]]\n",
    "        self.weights = [1,1,1,1];\n",
    "        return"
   ]
  },
  {
   "cell_type": "markdown",
   "metadata": {},
   "source": [
    "## Task 3: Making the Drones Hunt (15 minutes) \n",
    "\n",
    "Update the hunt function \n",
    "in the Drone class. \n",
    " \n",
    "1) If there is a prey agent at the drone's location, output to screen \"found one\"! \n",
    " \n",
    "2) Make a copy of the weights, and call it temp_weights. (Be careful to copy it for real! See the warmup.) \n",
    "\n",
    "3) For every point $\\vec{s}$ in the stencil, set a candidate point $\\vec{p}$ to be $\\vec{p} = \\vec{x} + \\vec{s}$. Use periodic boundary conditions to make sure we're not testing outside the environment lattice.  \n",
    "\n",
    "For this (safety checked) point, check to see see if there is prey there. \n",
    "If so, set the temp_weight to 10. Otherwise, set it to 1. \n",
    " \n",
    "4) For each point $\\vec{p}$ calculated as above, the probability \n",
    "of the drone moving there is given by its temp weight $w$ divided \n",
    "by the sum of the temp weights.  \n",
    "\n",
    "Using the method from Lecture 4, choose at random a site to move to. \n",
    "Update the drone's position accordingly. \n",
    "\n",
    "5) In the main simulation loop, update the code  to run through the drone list and have each drone hunt. Update the startup so that there are at 1000 or more time steps.\n",
    "   Give Lecture 4 notes a good look to help you on this task. \n"
   ]
  },
  {
   "cell_type": "code",
   "execution_count": null,
   "metadata": {},
   "outputs": [],
   "source": [
    "# Student work below but final edits need to be in the correct .py files"
   ]
  },
  {
   "cell_type": "markdown",
   "metadata": {},
   "source": [
    "## Task 4: Making the drones destroy (15 minutes)\n",
    "\n",
    "Add a new function to Drone called zap. It should take prey_list and environment as its arguments. Assume that if zap has been called at the drone's location, it has found prey \n",
    "there. \n",
    "\n",
    "1) Have it sample the environment to determine which prey it has seen. \n",
    "2) Have it destroy the prey agent by removing it from prey_list (see warmup) and setting the array of prey IDs to -1 at this location. \n",
    "\n",
    "3) Make the hunt function call zap whenever it finds somehting. \n",
    "\n",
    "\n",
    "```python\n",
    "     def zap( self, environment , prey_list ):\n",
    "          index = environment.prey_IDs[self.i,self.j]; \n",
    "          print( \"nom nom nom\" ); \n",
    "          del prey_list[ index ]; \n",
    "          environment.prey_IDs[self.i,self.j] = -1; \n",
    "          return; \n",
    "```\n",
    "\n",
    "And here's where you modify the hunt function: \n",
    "\n",
    "```python\n",
    "     def hunt( self, environment , prey_list):\n",
    "          # anybody here? \n",
    "          if environment.prey_IDs[self.i][self.j] > -1:\n",
    "               print( \"Found one!\" ); \n",
    "               self.zap( environment, prey_list ) \n",
    "          # continues unchanged from here ... \n",
    "```"
   ]
  },
  {
   "cell_type": "code",
   "execution_count": null,
   "metadata": {},
   "outputs": [],
   "source": [
    "# Student work below but final edits need to be in the correct .py files "
   ]
  },
  {
   "cell_type": "markdown",
   "metadata": {},
   "source": [
    "## Task 5: Improve the drones (10 minutes)\n",
    "\n",
    "Change the drone stencil to be any $(i,j)$ where $abs(i) + abs(j) = 3$. (It's a big diamond.) Re-run"
   ]
  },
  {
   "cell_type": "code",
   "execution_count": null,
   "metadata": {},
   "outputs": [],
   "source": [
    "# Student work below but final edits need to be in the correct .py files"
   ]
  }
 ],
 "metadata": {
  "kernelspec": {
   "display_name": "Python 3",
   "language": "python",
   "name": "python3"
  },
  "language_info": {
   "codemirror_mode": {
    "name": "ipython",
    "version": 3
   },
   "file_extension": ".py",
   "mimetype": "text/x-python",
   "name": "python",
   "nbconvert_exporter": "python",
   "pygments_lexer": "ipython3",
   "version": "3.8.3"
  }
 },
 "nbformat": 4,
 "nbformat_minor": 4
}
